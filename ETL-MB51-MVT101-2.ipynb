{
 "cells": [
  {
   "cell_type": "code",
   "execution_count": 1,
   "metadata": {},
   "outputs": [],
   "source": [
    "# import platform\n",
    "# print(platform.architecture())\n",
    "import pyodbc\n",
    "import datetime\n",
    "from datetime import datetime, timedelta\n"
   ]
  },
  {
   "cell_type": "code",
   "execution_count": 2,
   "metadata": {},
   "outputs": [],
   "source": [
    "\n",
    "# Connection details (replace with your credentials)\n",
    "db2_odbc_conn_string = 'DSN=DB2PRD-64;UID=TFC;PWD=TFC1010'\n",
    "mssql_conn_string = 'DRIVER={ODBC Driver 17 for SQL Server};SERVER=10.2.9.99;DATABASE=ROBOTIC;UID=nirun.n;PWD=Fec@08824'\n",
    "# Connect to DB2 database using ODBC\n",
    "# Execute the SQL statement (assuming a database connection is established):\n",
    "mssql_conn = pyodbc.connect(mssql_conn_string)\n",
    "mssql_cursor = mssql_conn.cursor()\n"
   ]
  },
  {
   "cell_type": "code",
   "execution_count": 3,
   "metadata": {},
   "outputs": [],
   "source": [
    "# Get the current date and time\n",
    "current_date = datetime.now() - timedelta(days=2)\n",
    " \n",
    "\n",
    "# Format the date as 'YYYYMMDD'\n",
    "formatted_date = current_date.strftime('%Y%m%d')\n",
    "# Extract the month from the formatted date\n",
    "cur_date_Month = formatted_date[4:6]  # Slicing from index 4 to 6 (excluding index 6)\n",
    "# Extract the month from the formatted date\n",
    "cur_date_Day = formatted_date[6:8]  # Slicing from index 4 to 6 (excluding index 6)\n",
    "\n",
    "# Print or return the formatted date\n",
    "# print(formatted_date)"
   ]
  },
  {
   "cell_type": "code",
   "execution_count": 4,
   "metadata": {},
   "outputs": [],
   "source": [
    "db2_conn = pyodbc.connect(db2_odbc_conn_string)\n",
    "db2_cursor = db2_conn.cursor()\n",
    "# sql_str = \"select werks, mblnr, BUDAT_MKPF, CPUTM_MKPF,\tmatnr, BWART, lgort, MENGE, meins, charg, aufnr, MJAHR, ZEILE   from MSEG where mandt = '900' and BUDAT_MKPF = '\" + formatted_date +\"' AND LGORT = 'A217' and (BWART = '101' OR BWART = '102')\"\n",
    "sql_str = \"select werks, mblnr, BUDAT_MKPF, CPUTM_MKPF,\tmatnr, BWART, lgort, MENGE, meins, charg, aufnr, MJAHR, ZEILE   from MSEG where mandt = '900' and BUDAT_MKPF = '\" + '20240817' +\"' AND LGORT = 'A217' and (BWART = '101' OR BWART = '102')\"\n",
    "\n",
    "db2_cursor.execute(sql_str)   \n",
    "db2_data = db2_cursor.fetchall()\n",
    "# Close DB2 connection\n",
    "db2_cursor.close()\n",
    "db2_conn.close()\n"
   ]
  },
  {
   "cell_type": "code",
   "execution_count": 8,
   "metadata": {},
   "outputs": [
    {
     "data": {
      "text/plain": [
       "[('4100', '4905909644', '20240816', '080740', '000000300000006073', '101', 'A217', Decimal('2400.000'), 'ST ', '240816000 ', '421700009016', '2024', '0001'),\n",
       " ('4100', '4905909645', '20240816', '080846', '000000300000006077', '101', 'A217', Decimal('2400.000'), 'ST ', '240816000 ', '421700008973', '2024', '0001'),\n",
       " ('4100', '4905909646', '20240816', '080923', '000000300000006445', '101', 'A217', Decimal('800.000'), 'ST ', '240816000 ', '421700009028', '2024', '0001'),\n",
       " ('4100', '4905909647', '20240816', '081003', '000000300000006449', '101', 'A217', Decimal('800.000'), 'ST ', '240816000 ', '421700009043', '2024', '0001'),\n",
       " ('4100', '4905909651', '20240816', '081308', '000000300000006062', '101', 'A217', Decimal('3750.000'), 'ST ', '240816000 ', '421700009034', '2024', '0001'),\n",
       " ('4100', '4905909652', '20240816', '081325', '000000300000006063', '101', 'A217', Decimal('3250.000'), 'ST ', '240816000 ', '421700009005', '2024', '0001'),\n",
       " ('4100', '4905909653', '20240816', '081339', '000000300000006063', '101', 'A217', Decimal('750.000'), 'ST ', '240816000 ', '421700009047', '2024', '0001'),\n",
       " ('4100', '4905910218', '20240816', '091934', '000000300000000483', '101', 'A217', Decimal('10000.000'), 'ST ', '240816000 ', '421700008993', '2024', '0001'),\n",
       " ('4100', '4905911331', '20240816', '112433', '000000300000006063', '101', 'A217', Decimal('1000.000'), 'ST ', '240816000 ', '421700009047', '2024', '0001'),\n",
       " ('4100', '4905911335', '20240816', '112502', '000000300000006062', '101', 'A217', Decimal('1000.000'), 'ST ', '240816000 ', '421700009046', '2024', '0001'),\n",
       " ('4100', '4905911610', '20240816', '120020', '000000300000006062', '101', 'A217', Decimal('500.000'), 'ST ', '240816000 ', '421700009046', '2024', '0001'),\n",
       " ('4100', '4905912040', '20240816', '135403', '000000300000006062', '101', 'A217', Decimal('500.000'), 'ST ', '240816000 ', '421700009046', '2024', '0001'),\n",
       " ('4100', '4905912041', '20240816', '135411', '000000300000006063', '101', 'A217', Decimal('1000.000'), 'ST ', '240816000 ', '421700009047', '2024', '0001'),\n",
       " ('4100', '4905913563', '20240816', '171210', '000000300000006063', '101', 'A217', Decimal('1000.000'), 'ST ', '240816000 ', '421700009047', '2024', '0001'),\n",
       " ('4100', '4905913566', '20240816', '171217', '000000300000006062', '101', 'A217', Decimal('1000.000'), 'ST ', '240816000 ', '421700009046', '2024', '0001'),\n",
       " ('4100', '4905914265', '20240816', '185429', '000000300000006063', '101', 'A217', Decimal('250.000'), 'ST ', '240816000 ', '421700009047', '2024', '0001'),\n",
       " ('4100', '4905914383', '20240816', '191600', '000000300000007689', '101', 'A217', Decimal('500.000'), 'ST ', '240816000 ', '421700009035', '2024', '0001'),\n",
       " ('4100', '4905914387', '20240816', '191647', '000000300000007690', '101', 'A217', Decimal('500.000'), 'ST ', '240816000 ', '421700009036', '2024', '0001'),\n",
       " ('4100', '4905914601', '20240816', '195937', '000000300000006077', '101', 'A217', Decimal('1500.000'), 'ST ', '240816000 ', '421700008973', '2024', '0001'),\n",
       " ('4100', '4905914603', '20240816', '195951', '000000300000006077', '101', 'A217', Decimal('900.000'), 'ST ', '240816000 ', '421700009033', '2024', '0001'),\n",
       " ('4100', '4905914613', '20240816', '200301', '000000300000006073', '101', 'A217', Decimal('600.000'), 'ST ', '240816000 ', '421700009016', '2024', '0001'),\n",
       " ('4100', '4905914617', '20240816', '200407', '000000300000006073', '101', 'A217', Decimal('1800.000'), 'ST ', '240816000 ', '421700009009', '2024', '0001'),\n",
       " ('4100', '4905914624', '20240816', '200527', '000000300000006445', '101', 'A217', Decimal('1000.000'), 'ST ', '240816000 ', '421700009028', '2024', '0001'),\n",
       " ('4100', '4905914637', '20240816', '200607', '000000300000006449', '101', 'A217', Decimal('1000.000'), 'ST ', '240816000 ', '421700009043', '2024', '0001')]"
      ]
     },
     "execution_count": 8,
     "metadata": {},
     "output_type": "execute_result"
    }
   ],
   "source": [
    "db2_data"
   ]
  },
  {
   "cell_type": "code",
   "execution_count": 9,
   "metadata": {},
   "outputs": [
    {
     "data": {
      "text/plain": [
       "datetime.datetime(2024, 8, 18, 18, 55, 19, 206513)"
      ]
     },
     "execution_count": 9,
     "metadata": {},
     "output_type": "execute_result"
    }
   ],
   "source": [
    "import socket\n",
    "\n",
    "# Get the computer name\n",
    "computer_name = socket.gethostname()\n",
    "\n",
    "# Get the local IP address\n",
    "local_ip = socket.gethostbyname(socket.gethostname())\n",
    "\n",
    "# print(f\"Local IP Address: {local_ip}\")\n",
    "# print(f\"Computer Name: {computer_name}\")\n",
    "\n",
    "from datetime import datetime\n",
    "\n",
    "# Get the current date and time\n",
    "current_datetime = datetime.now()\n",
    "current_datetime "
   ]
  },
  {
   "cell_type": "code",
   "execution_count": 10,
   "metadata": {},
   "outputs": [],
   "source": [
    "# # Connect to MSSQL database\n",
    "# mssql_conn = pyodbc.connect(mssql_conn_string)\n",
    "# mssql_cursor = mssql_conn.cursor()\n",
    "# mssql_cursor.execute(\"DELETE FROM DM_D_MATGRP1_TABLE\")  # Replace with actual column names\n",
    "# mssql_conn.commit()\n",
    "# mssql_cursor.close()\n",
    "# mssql_conn.close()\n",
    "\n",
    "lv_sql = \"\" \n",
    "i = 0\n",
    "for row in db2_data:\n",
    "    i += 1\n",
    "    # Convert each column to string and strip whitespace\n",
    "    trimmed_row = tuple(str(column).strip() for column in row)\n",
    "    # print(trimmed_row)\n",
    "    # Construct the desired string with parentheses and commas:\n",
    "      \n",
    "    \n",
    "    lv_sql += \"(SYSDATETIME(), '\" + computer_name + \"', '\" + local_ip + \"', '\" + trimmed_row[0] + \"', '\" + trimmed_row[1] \n",
    "    lv_sql += \"', CONVERT(VARCHAR(10), CAST('\" + trimmed_row[2] + \"' AS DATE), 120) ,\"  \n",
    "    lv_sql += \"CONVERT(VARCHAR(8), CAST(STUFF(STUFF('\" + trimmed_row[3] + \"' , 3, 0, ':'), 6, 0, ':') AS TIME), 108),'\"    \n",
    "    lv_sql +=  trimmed_row[4].lstrip('0') + \"', '\" + trimmed_row[5] + \"', '\" + trimmed_row[6] + \"', '\" \n",
    "    if trimmed_row[5] == '101':\n",
    "        lv_sql += trimmed_row[7]  \n",
    "    else:\n",
    "        lv_sql += '-' + trimmed_row[7]  \n",
    "    lv_sql += \"', '\" + trimmed_row[8] + \"', '\" + trimmed_row[9] \n",
    "    lv_sql += \"', '\" + trimmed_row[10] + \"', '\" + trimmed_row[11] + \"', '\" + trimmed_row[1]+trimmed_row[12] \n",
    "    lv_sql += \"','\" + cur_date_Month + \"','\" +  cur_date_Day + \"'),\"\n",
    "    # CreateOperatedTime,Computer_Name,Computer_IP,0:Plant,1:Material Document, 2:Posting Date, 3:Time of Entry, 4:Material, 5:Movement Type, 6:Storage Location, 7:Quantity, 8:Base Unit of Measure, \n",
    "    # 9:Batch, 10: Order, 11:Year, 12:Item\n",
    "    # print(lv_sql)\n",
    "\n",
    "lv_sql = lv_sql[:-1]\n",
    "# print(i)  "
   ]
  },
  {
   "cell_type": "code",
   "execution_count": 12,
   "metadata": {},
   "outputs": [],
   "source": [
    "\n",
    "lv_sqlinsert = \"INSERT INTO  DM_D_MATGRP1_TABLE (LOADDATE,SPRAS,MATERIAL_GRP1,MATERIAL_GRP1_DES) VALUES \"\n",
    "lv_sqlinsert = '''insert into SPIMMB51Semi \n",
    "                    (CreateOperatedTime,ComputerName,ComputerIP,Plant, MaterialDocument, PostingDate, TimeofEntry, Material, MovementType, StorageLocation, Quantity\n",
    "                    , BaseUnitofMeasure,  Batch, PrdOrder, MatdocYear, Item, Month, Day)\n",
    "                    values\n",
    "               '''\n",
    "lv_sqlinsert += lv_sql\n",
    "lv_sqlinsert\n",
    "\n",
    "# Execute the SQL statement (assuming a database connection is established):\n",
    "mssql_conn = pyodbc.connect(mssql_conn_string)\n",
    "mssql_cursor = mssql_conn.cursor()\n",
    "mssql_cursor.execute(lv_sqlinsert)\n",
    "# Commit changes and close MSSQL connection\n",
    "mssql_conn.commit()\n",
    "mssql_cursor.close()\n",
    "mssql_conn.close()\n",
    "\n",
    "# Execute the SQL statement (assuming a database connection is established):\n",
    "mssql_conn = pyodbc.connect(mssql_conn_string)\n",
    "mssql_cursor = mssql_conn.cursor()\n",
    "lv_sqlinsert = '''UPDATE SPIMMB51Semi\n",
    "                    SET \n",
    "                        PostOperatedTime = CAST(PostingDate AS DATETIME) + CAST(TimeofEntry AS DATETIME)\n",
    "                    WHERE PostOperatedTime IS NULL\n",
    "                '''\n",
    "mssql_cursor.execute(lv_sqlinsert)\n",
    "# Commit changes and close MSSQL connection\n",
    "mssql_conn.commit()\n",
    "mssql_cursor.close()\n",
    "mssql_conn.close()\n",
    "print(\"ETL process completed successfully on table DM_D_MATGRP1_TABLE with \",i, \" records.\")"
   ]
  }
 ],
 "metadata": {
  "kernelspec": {
   "display_name": "Python 3",
   "language": "python",
   "name": "python3"
  },
  "language_info": {
   "codemirror_mode": {
    "name": "ipython",
    "version": 3
   },
   "file_extension": ".py",
   "mimetype": "text/x-python",
   "name": "python",
   "nbconvert_exporter": "python",
   "pygments_lexer": "ipython3",
   "version": "3.11.9"
  }
 },
 "nbformat": 4,
 "nbformat_minor": 2
}
