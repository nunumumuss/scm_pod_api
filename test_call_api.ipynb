{
 "cells": [
  {
   "cell_type": "code",
   "execution_count": 2,
   "metadata": {},
   "outputs": [],
   "source": [
    "import requests"
   ]
  },
  {
   "cell_type": "code",
   "execution_count": 42,
   "metadata": {},
   "outputs": [
    {
     "name": "stdout",
     "output_type": "stream",
     "text": [
      "{'message1': 'Successfully uploaded 20240801_115817.png', 'message2': 'laa 8121254126\\ndul 16.07.2024\\n', 'message3': '8121254126'}\n"
     ]
    }
   ],
   "source": [
    "url = 'http://127.0.0.1:8000/upload2'\n",
    "prj_path = 'D:/Clouddrive/Dropbox/TFW/00. My Task/Mobile Application/Workshop/'\n",
    "file = {'file': open(prj_path + '8121254126.png', 'rb')}\n",
    "resp = requests.post(url=url, files=file) \n",
    "print(resp.json())"
   ]
  },
  {
   "cell_type": "code",
   "execution_count": 21,
   "metadata": {},
   "outputs": [
    {
     "name": "stdout",
     "output_type": "stream",
     "text": [
      "{'results': [{'site': 'SW', 'latitude': 13.79112, 'longitude': 100.96372, 'desc': 'SW Suwintavong'}, {'site': 'WH7', 'latitude': 13.67098, 'longitude': 100.72301, 'desc': 'WH7 Bangpee'}]}\n"
     ]
    }
   ],
   "source": [
    "import requests\n",
    "url = 'http://localhost:8000/warehouse' \n",
    "resp = requests.get(url=url ) \n",
    "print(resp.json())"
   ]
  },
  {
   "cell_type": "code",
   "execution_count": 11,
   "metadata": {},
   "outputs": [
    {
     "name": "stdout",
     "output_type": "stream",
     "text": [
      "Response Data: {'results': [{'ship_point': 'WH7', 'shipid': '6100155409', 'province': 'Chachoengsao'}, {'ship_point': 'WH7', 'shipid': '6100155471', 'province': 'Bangkok'}, {'ship_point': 'SW', 'shipid': '6100155485', 'province': 'Bangkok'}, {'ship_point': 'SW', 'shipid': '6100155536', 'province': 'Bangkok'}, {'ship_point': 'WH7', 'shipid': '6100155599', 'province': 'Bangkok'}]}\n"
     ]
    }
   ],
   "source": [
    "import requests\n",
    "\n",
    "# Define the API endpoint and parameters\n",
    "api_url = \"http://localhost:8000/picked\"\n",
    "car_license = \"กท1\"  # Replace with your car license\n",
    " \n",
    "\n",
    "# Make a GET request to the API\n",
    "response = requests.get(api_url, params={\n",
    "    'car_license': car_license\n",
    "})\n",
    "\n",
    "# Check the status code of the response\n",
    "if response.status_code == 200:\n",
    "    # Parse and print the JSON response\n",
    "    data = response.json()\n",
    "    print(\"Response Data:\", data)\n",
    "else:\n",
    "    # Print the error message\n",
    "    print(f\"Error: {response.status_code} - {response.text}\")"
   ]
  },
  {
   "cell_type": "code",
   "execution_count": 16,
   "metadata": {},
   "outputs": [
    {
     "name": "stdout",
     "output_type": "stream",
     "text": [
      "Response Data: {'results': [{'ship_point': 'WH7', 'shipid': '6100155409', 'province': 'Chachoengsao'}, {'ship_point': 'WH7', 'shipid': '6100155471', 'province': 'Bangkok'}, {'ship_point': 'WH7', 'shipid': '6100155519', 'province': 'Ratchaburi'}, {'ship_point': 'WH7', 'shipid': '6100155599', 'province': 'Bangkok'}]}\n"
     ]
    }
   ],
   "source": [
    "import requests\n",
    "\n",
    "# Define the API endpoint and parameters\n",
    "api_url = \"http://localhost:8000/checkin\"\n",
    "car_license = \"กท1\"  # Replace with your car license\n",
    "latitude = 13.45536\n",
    "longitude = 100.53830 \n",
    "\n",
    "# Make a GET request to the API\n",
    "response = requests.get(api_url, params={\n",
    "    'car_license': car_license,\n",
    "    'latitude': latitude,\n",
    "    'longitude': longitude \n",
    "})\n",
    "\n",
    "# Check the status code of the response\n",
    "if response.status_code == 200:\n",
    "    # Parse and print the JSON response\n",
    "    data = response.json()\n",
    "    print(\"Response Data:\", data)\n",
    "else:\n",
    "    # Print the error message\n",
    "    print(f\"Error: {response.status_code} - {response.text}\")\n"
   ]
  }
 ],
 "metadata": {
  "kernelspec": {
   "display_name": "Python 3",
   "language": "python",
   "name": "python3"
  },
  "language_info": {
   "codemirror_mode": {
    "name": "ipython",
    "version": 3
   },
   "file_extension": ".py",
   "mimetype": "text/x-python",
   "name": "python",
   "nbconvert_exporter": "python",
   "pygments_lexer": "ipython3",
   "version": "3.11.9"
  }
 },
 "nbformat": 4,
 "nbformat_minor": 2
}
