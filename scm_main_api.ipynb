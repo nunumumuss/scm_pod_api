{
 "cells": [
  {
   "cell_type": "code",
   "execution_count": null,
   "metadata": {},
   "outputs": [],
   "source": [
    "# pip install fastapi uvicorn sqlalchemy mysql-connector-python\n",
    "# pip install geopy"
   ]
  },
  {
   "cell_type": "code",
   "execution_count": 13,
   "metadata": {},
   "outputs": [],
   "source": [
    "import mysql.connector\n",
    "from mysql.connector import Error\n",
    "from math import radians, sin, cos, sqrt, atan2"
   ]
  },
  {
   "cell_type": "code",
   "execution_count": 4,
   "metadata": {},
   "outputs": [],
   "source": [
    "from fastapi import FastAPI, HTTPException\n",
    "from pydantic import BaseModel\n",
    "from sqlalchemy import create_engine, Table, MetaData, select\n",
    "from sqlalchemy.sql import text\n",
    "from typing import List, Dict\n",
    "from geopy.distance import great_circle\n",
    "\n",
    "app = FastAPI()\n",
    "\n",
    "# Database configuration\n",
    "DATABASE_URL = \"mysql+mysqlconnector://root:@dmintce@localhost/workshop\"\n",
    "engine = create_engine(DATABASE_URL, echo=True)\n",
    "metadata = MetaData()"
   ]
  },
  {
   "cell_type": "code",
   "execution_count": 10,
   "metadata": {},
   "outputs": [],
   "source": [
    "# Helper function to calculate distance\n",
    "def calculate_distance(lat1, lon1, lat2, lon2) -> float:\n",
    "    return round(great_circle((lat1, lon1), (lat2, lon2)).km, 2)\n",
    " "
   ]
  },
  {
   "cell_type": "code",
   "execution_count": 71,
   "metadata": {},
   "outputs": [],
   "source": [
    "mysql_host = 'localhost'\n",
    "mysql_db = 'workshop'\n",
    "mysql_user = 'root'\n",
    "mysql_password = '@dmintce'\n"
   ]
  },
  {
   "cell_type": "code",
   "execution_count": 121,
   "metadata": {},
   "outputs": [],
   "source": [
    "def get_warehouses_within_distance(lat, lon, max_distance_km):\n",
    "    try:\n",
    "        connection = mysql.connector.connect(\n",
    "            host= mysql_host,\n",
    "            database= mysql_db,\n",
    "            user= mysql_user,\n",
    "            password=  mysql_password\n",
    "        )\n",
    "        if connection.is_connected():\n",
    "            cursor = connection.cursor(dictionary=True)\n",
    "            \n",
    "            # Query to get all warehouses\n",
    "            query = \"\"\"\n",
    "            SELECT site, latitude, longitude \n",
    "            FROM warehouse\n",
    "            \"\"\"\n",
    "            cursor.execute(query)\n",
    "            warehouses = cursor.fetchall()\n",
    "            \n",
    "            # Filter warehouses based on distance\n",
    "            nearby_warehouses = []\n",
    "            for warehouse in warehouses:\n",
    "                dist = calculate_distance(lat, lon, warehouse['latitude'], warehouse['longitude'])\n",
    "                if dist <= max_distance_km:\n",
    "                    nearby_warehouses.append(warehouse['site'])\n",
    "            \n",
    "            return nearby_warehouses\n",
    "\n",
    "    except Error as e:\n",
    "        print(f\"Error: {e}\")\n",
    "        return None\n",
    "\n",
    "    finally:\n",
    "        if connection.is_connected():\n",
    "            cursor.close()\n",
    "            connection.close()\n",
    "\n"
   ]
  },
  {
   "cell_type": "code",
   "execution_count": 178,
   "metadata": {},
   "outputs": [],
   "source": [
    "def get_shipment(lat, lon, max_distance_km,car_license):\n",
    "    try:\n",
    "        connection = mysql.connector.connect(\n",
    "            host= mysql_host,\n",
    "            database= mysql_db,\n",
    "            user= mysql_user,\n",
    "            password=  mysql_password\n",
    "        )\n",
    "        if connection.is_connected():\n",
    "            cursor = connection.cursor(dictionary=True)\n",
    "            \n",
    "            # Query to get all warehouses\n",
    "            query = \"\"\"\n",
    "            SELECT site, latitude, longitude \n",
    "            FROM warehouse\n",
    "            \"\"\"\n",
    "            cursor.execute(query)\n",
    "            warehouses = cursor.fetchall()\n",
    "            \n",
    "            # Filter warehouses based on distance\n",
    "            warehouses_site = []\n",
    "            for warehouse in warehouses:\n",
    "                dist = calculate_distance(lat, lon, warehouse['latitude'], warehouse['longitude'])\n",
    "                if dist <= max_distance_km:\n",
    "                    warehouses_site.append(warehouse['site'])\n",
    "            result = ' '\n",
    "            result = ', '.join(f\"'{item}'\" for item in  warehouses_site  )\n",
    "\n",
    "            # Create the SQL query text\n",
    "            shipment_query = ''\n",
    "            \n",
    "            if result != ' ':\n",
    "                shipment_query = f\"\"\"SELECT s.ship_point, p.province \n",
    "                FROM shipment  s \n",
    "                inner join province p\n",
    "                on s.postcode = p.postcode\n",
    "                WHERE car_license = '{car_license}'\n",
    "                  and load_stat = '' and ship_point in ({result})\"\"\"\n",
    "            # print(shipment_query)\n",
    "            cursor.execute(shipment_query)\n",
    "            shipment = cursor.fetchall()\n",
    "            return shipment\n",
    "\n",
    "    except Error as e:\n",
    "        print(f\"Error: {e}\")\n",
    "        return None\n",
    "\n",
    "    finally:\n",
    "        if connection.is_connected():\n",
    "            cursor.close()\n",
    "            connection.close()"
   ]
  },
  {
   "cell_type": "code",
   "execution_count": null,
   "metadata": {},
   "outputs": [],
   "source": [
    "# Example usage\n",
    "#Vitory monament\n",
    "input_latitude  = 13.45536\n",
    "input_longitude  = 100.53830\n",
    "# #Bang naum paw\n",
    "input_latitude  = 13.69273\n",
    "input_longitude = 100.89219\n",
    "distance_km = 20\n",
    "\n",
    "shipment = get_shipment(input_latitude, input_longitude, distance_km,'กท1')\n",
    "shipment"
   ]
  }
 ],
 "metadata": {
  "kernelspec": {
   "display_name": "Python 3",
   "language": "python",
   "name": "python3"
  },
  "language_info": {
   "codemirror_mode": {
    "name": "ipython",
    "version": 3
   },
   "file_extension": ".py",
   "mimetype": "text/x-python",
   "name": "python",
   "nbconvert_exporter": "python",
   "pygments_lexer": "ipython3",
   "version": "3.11.9"
  }
 },
 "nbformat": 4,
 "nbformat_minor": 2
}
